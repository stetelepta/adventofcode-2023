{
 "cells": [
  {
   "cell_type": "markdown",
   "id": "176096e4-d7d3-458e-8827-6a2b593670f0",
   "metadata": {},
   "source": [
    "### Imports"
   ]
  },
  {
   "cell_type": "code",
   "execution_count": 2,
   "id": "81a308ea-af8f-44cb-a163-a3039fbccbc9",
   "metadata": {
    "tags": []
   },
   "outputs": [],
   "source": [
    "import os\n",
    "from pathlib import Path\n",
    "\n",
    "import numpy as np\n",
    "import pandas as pd\n",
    "\n",
    "from aocd import get_data\n",
    "from aocd.models import Puzzle\n",
    "from dotenv import load_dotenv"
   ]
  },
  {
   "cell_type": "markdown",
   "id": "a4a3aaaa-4068-4282-90a6-dc5ed77308a2",
   "metadata": {},
   "source": [
    "### Get puzzle input \n",
    "\n",
    "#### Option 1: use requests to get the puzzle input, you need to use the session cookie\n",
    "\n",
    "```\n",
    "import requests\n",
    "cookies = {\"session\": \"[session cookie.. get from developer tools\"}\n",
    "page = requests.get(f\"https://adventofcode.com/2023/day/1/input\", cookies=cookies)\n",
    "page.content\n",
    "```\n",
    "\n",
    "#### Option 2: use the pip package advent-of-code-data\n",
    "\n",
    "* convenient as it also gets the example input\n",
    "* add session cookie to the AOC_SESSION variable in the .env file"
   ]
  },
  {
   "cell_type": "code",
   "execution_count": 3,
   "id": "c3ea919a-3243-441d-b8f3-1a87a7b36eed",
   "metadata": {
    "tags": []
   },
   "outputs": [],
   "source": [
    "# cookies = {'session': \"[session cookie.. check developer tools\"}\n",
    "# data = get_input_data(day=1, cookies=cookies)\n",
    "# print(f\"{data[0:10]}...\")"
   ]
  },
  {
   "cell_type": "markdown",
   "id": "6c362faa-62ff-4561-a540-384c4e5935b2",
   "metadata": {},
   "source": [
    "### Use package advent-of-code-data\n",
    "\n",
    "* Retrieves example data as well which is nice\n",
    "* Make sure to add session cookie to the AOC_SESSION variable in the .env file"
   ]
  },
  {
   "cell_type": "code",
   "execution_count": 10,
   "id": "ad4074ee-c3c5-48c2-8044-c1ada13b2660",
   "metadata": {
    "tags": []
   },
   "outputs": [
    {
     "data": {
      "text/plain": [
       "True"
      ]
     },
     "execution_count": 10,
     "metadata": {},
     "output_type": "execute_result"
    }
   ],
   "source": [
    "load_dotenv(\".env\")"
   ]
  },
  {
   "cell_type": "code",
   "execution_count": 12,
   "id": "0f7eea2c-828e-48a2-8b13-f433fd14ef77",
   "metadata": {
    "tags": []
   },
   "outputs": [],
   "source": [
    "# Load AOC_SESSION with session cookie\n",
    "load_dotenv()\n",
    "\n",
    "puzzle = Puzzle(year=2023, day=1)\n",
    "input_data = puzzle.input_data\n",
    "input_data_example = puzzle.examples[0].input_data"
   ]
  }
 ],
 "metadata": {
  "kernelspec": {
   "display_name": "Python 3 (ipykernel)",
   "language": "python",
   "name": "python3"
  },
  "language_info": {
   "codemirror_mode": {
    "name": "ipython",
    "version": 3
   },
   "file_extension": ".py",
   "mimetype": "text/x-python",
   "name": "python",
   "nbconvert_exporter": "python",
   "pygments_lexer": "ipython3",
   "version": "3.9.12"
  }
 },
 "nbformat": 4,
 "nbformat_minor": 5
}
