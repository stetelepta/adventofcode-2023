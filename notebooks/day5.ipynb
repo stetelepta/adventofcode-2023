{
 "cells": [
  {
   "cell_type": "markdown",
   "id": "b73a0e62-6374-48e5-b692-ed8390840ea0",
   "metadata": {},
   "source": [
    "## Day 5\n",
    "\n",
    "https://adventofcode.com/2023/day/4"
   ]
  },
  {
   "cell_type": "markdown",
   "id": "c169507d-d961-4748-b796-9614bebeeb9c",
   "metadata": {},
   "source": [
    "### Imports"
   ]
  },
  {
   "cell_type": "code",
   "execution_count": 1,
   "id": "a9d16f5d-0c0d-45d8-949c-397352151c00",
   "metadata": {
    "tags": []
   },
   "outputs": [],
   "source": [
    "import os\n",
    "from pathlib import Path\n",
    "\n",
    "import numpy as np\n",
    "import pandas as pd\n",
    "\n",
    "from aocd.models import Puzzle\n",
    "from dotenv import load_dotenv\n",
    "\n",
    "from collections import defaultdict"
   ]
  },
  {
   "cell_type": "markdown",
   "id": "99bd8199-dfbb-4bba-92cd-a47ff4df6c63",
   "metadata": {
    "tags": []
   },
   "source": [
    "### Get data"
   ]
  },
  {
   "cell_type": "code",
   "execution_count": 2,
   "id": "f3eeeaa4-4dec-4cd8-add8-e2fb3f6e4781",
   "metadata": {
    "tags": []
   },
   "outputs": [
    {
     "name": "stdout",
     "output_type": "stream",
     "text": [
      "seeds: 79 14 55 13\n",
      "\n",
      "seed-to-soil map:\n",
      "50 98 2\n",
      "52 50 48\n",
      "\n",
      "soil-to-fertilizer map:\n",
      "0 15 37\n",
      "37 52 2\n",
      "39 0 15\n",
      "\n",
      "fertilizer-to-water map:\n",
      "49 53 8\n",
      "0 11 42\n",
      "42 0 7\n",
      "57 7 4\n",
      "\n",
      "water-to-light map:\n",
      "88 18 7\n",
      "18 25 70\n",
      "\n",
      "light-to-temperature map:\n",
      "45 77 23\n",
      "81 45 19\n",
      "68 64 13\n",
      "\n",
      "temperature-to-humidity map:\n",
      "0 69 1\n",
      "1 0 69\n",
      "\n",
      "humidity-to-location map:\n",
      "60 56 37\n",
      "56 93 4\n"
     ]
    }
   ],
   "source": [
    "load_dotenv()\n",
    "\n",
    "puzzle = Puzzle(year=2023, day=5)\n",
    "input_data_example = puzzle.examples[0].input_data\n",
    "input_data = puzzle.input_data\n",
    "print(input_data_example)"
   ]
  },
  {
   "cell_type": "markdown",
   "id": "bbbf10e2-519b-45ae-b8c4-86cc39ea8e0c",
   "metadata": {},
   "source": [
    "### Part 1"
   ]
  },
  {
   "cell_type": "code",
   "execution_count": 3,
   "id": "c7361d6e-1f58-44fa-9dfa-41190e708ae0",
   "metadata": {
    "tags": []
   },
   "outputs": [],
   "source": [
    "def preprocessing(data):\n",
    "    data_splitted = data.split(\"\\n\\n\")\n",
    "    seeds = [int(s) for s in data_splitted[0].split(\": \")[1].split(\" \")]\n",
    "    \n",
    "    maps = defaultdict(dict)\n",
    "    for block in data_splitted[1:]:\n",
    "        block_splitted = block.split(\"\\n\")\n",
    "        map_key = block_splitted[0].split(\" \")[0]\n",
    "\n",
    "        for line in block_splitted[1:]:\n",
    "            dst_start, src_start, length = [int(v) for v in line.split(\" \")]\n",
    "            maps[map_key][src_start] = {'dst_start': dst_start, 'range': length}\n",
    "    \n",
    "    map_keys = list(maps.keys())\n",
    "    for i in np.arange(len(map_keys)-1):\n",
    "        maps[map_keys[i]]['next'] = map_keys[i+1]\n",
    "    maps[map_keys[i+1]]['next'] = False\n",
    "    \n",
    "    return seeds, maps"
   ]
  },
  {
   "cell_type": "code",
   "execution_count": 4,
   "id": "df6e6538-5de5-47cf-8acc-598aa60d02ff",
   "metadata": {
    "tags": []
   },
   "outputs": [],
   "source": [
    "def in_range(value, start, end):\n",
    "    # returns True if value >= start and <= end\n",
    "    return (value >= start) & (value < end)"
   ]
  },
  {
   "cell_type": "code",
   "execution_count": 5,
   "id": "d005d249-652c-4d30-b330-bff4fe789f02",
   "metadata": {
    "tags": []
   },
   "outputs": [],
   "source": [
    "def get_destination(maps, map_key, src):\n",
    "    # given a src, return the correct destination\n",
    "    for k, v in maps[map_key].items():\n",
    "        if k != \"next\":\n",
    "            if in_range(src, k, k+v['range']):\n",
    "                return v['dst_start']+(src)-k\n",
    "    return src"
   ]
  },
  {
   "cell_type": "code",
   "execution_count": 6,
   "id": "bf2a14f1-984c-4a7b-b0b7-b79c8d89918c",
   "metadata": {
    "tags": []
   },
   "outputs": [
    {
     "data": {
      "text/plain": [
       "35"
      ]
     },
     "execution_count": 6,
     "metadata": {},
     "output_type": "execute_result"
    }
   ],
   "source": [
    "def solution_a(data):\n",
    "    data_orig = data\n",
    "    seeds, maps = preprocessing(data)\n",
    "    max_i = 100_000\n",
    "    i = 0\n",
    "\n",
    "    output = []\n",
    "    for seed in seeds:\n",
    "        src_value = seed\n",
    "        map_key = list(maps.keys())[0]\n",
    "        \n",
    "        dst_value = get_destination(maps, map_key, src_value)\n",
    "        while maps[map_key].get('next', False) != False:\n",
    "            dst_value = get_destination(maps, map_key, src_value)\n",
    "            \n",
    "            # new src value and map_key\n",
    "            src_value = dst_value\n",
    "            map_key = maps[map_key]['next']\n",
    "            i += 1\n",
    "            if i > max_i:\n",
    "                print(\"break\")\n",
    "                break\n",
    "\n",
    "        dst_value = get_destination(maps, map_key, src_value)\n",
    "        output.append(dst_value)\n",
    "        \n",
    "    return np.min(output)\n",
    "solution_a(input_data_example)"
   ]
  },
  {
   "cell_type": "code",
   "execution_count": 7,
   "id": "75cedae7",
   "metadata": {},
   "outputs": [
    {
     "name": "stderr",
     "output_type": "stream",
     "text": [
      "coerced int64 value 214922730 for 2023/05\n"
     ]
    },
    {
     "name": "stdout",
     "output_type": "stream",
     "text": [
      "214922730\n",
      "\u001b[32mThat's the right answer!  You are one gold star closer to restoring snow operations. [Continue to Part Two]\u001b[0m\n"
     ]
    }
   ],
   "source": [
    "print(solution_a(input_data))\n",
    "puzzle.answer_a = solution_a(input_data)"
   ]
  }
 ],
 "metadata": {
  "kernelspec": {
   "display_name": "Python 3 (ipykernel)",
   "language": "python",
   "name": "python3"
  },
  "language_info": {
   "codemirror_mode": {
    "name": "ipython",
    "version": 3
   },
   "file_extension": ".py",
   "mimetype": "text/x-python",
   "name": "python",
   "nbconvert_exporter": "python",
   "pygments_lexer": "ipython3",
   "version": "3.9.12"
  }
 },
 "nbformat": 4,
 "nbformat_minor": 5
}
