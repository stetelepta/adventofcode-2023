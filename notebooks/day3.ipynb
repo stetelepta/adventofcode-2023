{
 "cells": [
  {
   "cell_type": "markdown",
   "id": "b73a0e62-6374-48e5-b692-ed8390840ea0",
   "metadata": {},
   "source": [
    "## Day 3\n",
    "\n",
    "https://adventofcode.com/2023/day/3"
   ]
  },
  {
   "cell_type": "markdown",
   "id": "c169507d-d961-4748-b796-9614bebeeb9c",
   "metadata": {},
   "source": [
    "### Imports"
   ]
  },
  {
   "cell_type": "code",
   "execution_count": 1,
   "id": "a9d16f5d-0c0d-45d8-949c-397352151c00",
   "metadata": {
    "tags": []
   },
   "outputs": [],
   "source": [
    "import os\n",
    "from pathlib import Path\n",
    "\n",
    "import numpy as np\n",
    "import pandas as pd\n",
    "\n",
    "from aocd.models import Puzzle\n",
    "from dotenv import load_dotenv\n",
    "\n",
    "from scipy.ndimage import label"
   ]
  },
  {
   "cell_type": "markdown",
   "id": "99bd8199-dfbb-4bba-92cd-a47ff4df6c63",
   "metadata": {
    "tags": []
   },
   "source": [
    "### Get data"
   ]
  },
  {
   "cell_type": "code",
   "execution_count": 2,
   "id": "f3eeeaa4-4dec-4cd8-add8-e2fb3f6e4781",
   "metadata": {
    "tags": []
   },
   "outputs": [],
   "source": [
    "load_dotenv()\n",
    "\n",
    "puzzle = Puzzle(year=2023, day=3)\n",
    "input_data_example = puzzle.examples[0].input_data\n",
    "input_data = puzzle.input_data"
   ]
  },
  {
   "cell_type": "markdown",
   "id": "bbbf10e2-519b-45ae-b8c4-86cc39ea8e0c",
   "metadata": {},
   "source": [
    "### Part 1"
   ]
  },
  {
   "cell_type": "code",
   "execution_count": 3,
   "id": "30708e3c-77fa-4da3-b129-e2b68f234d52",
   "metadata": {
    "tags": []
   },
   "outputs": [],
   "source": [
    "def get_symbols(data):\n",
    "    # get symbols from data\n",
    "    non_symbols = [str(d) for d in np.arange(10)] + ['\\n', '.']\n",
    "    return [s for s in np.unique(list(data)) if s not in non_symbols]"
   ]
  },
  {
   "cell_type": "code",
   "execution_count": 4,
   "id": "e658b91c-99f4-4e60-a781-28c6b2e8744f",
   "metadata": {
    "tags": []
   },
   "outputs": [],
   "source": [
    "def get_mask(data, symbols):\n",
    "    #data = data.split(\"\\n\")\n",
    "    \n",
    "    # numbers to ones\n",
    "    for i in np.arange(10):\n",
    "        data = data.replace(str(i), \"1\")\n",
    "    \n",
    "    # dots to zeros\n",
    "    data = data.replace(\".\", \"0\")\n",
    "    \n",
    "    # symbols to twos\n",
    "    for symbol in symbols:\n",
    "        data = data.replace(symbol, \"2\")\n",
    "    \n",
    "    mask = np.array([list(s) for s in data.split(\"\\n\")]).astype(int)\n",
    "    return mask"
   ]
  },
  {
   "cell_type": "code",
   "execution_count": 5,
   "id": "e672997b-a00d-4aaa-9c4a-189b2220854d",
   "metadata": {
    "tags": []
   },
   "outputs": [],
   "source": [
    "def get_mask_b(data, symbols):\n",
    "    #data = data.split(\"\\n\")\n",
    "    \n",
    "    # numbers to ones\n",
    "    for i in np.arange(10):\n",
    "        data = data.replace(str(i), \"1\")\n",
    "    \n",
    "    # dots to zeros\n",
    "    data = data.replace(\".\", \"0\")\n",
    "    \n",
    "    # symbols to twos\n",
    "    for symbol in symbols:\n",
    "        if symbol == \"*\":\n",
    "            data = data.replace(symbol, \"2\")\n",
    "        else:\n",
    "            data = data.replace(symbol, \"0\")\n",
    "    \n",
    "    mask = np.array([list(s) for s in data.split(\"\\n\")]).astype(int)\n",
    "    return mask"
   ]
  },
  {
   "cell_type": "code",
   "execution_count": 6,
   "id": "ba41f379-485b-45c2-a5b6-49699daba57f",
   "metadata": {
    "tags": []
   },
   "outputs": [],
   "source": [
    "def sum_data(data):\n",
    "    symbols = get_symbols(data)\n",
    "\n",
    "    # remove symbols from data\n",
    "    for symbol in symbols:\n",
    "        data = data.replace(symbol, \".\")\n",
    "    return np.sum([int(s) for line in data.split(\"\\n\") for s in line.split(\".\") if not s in symbols and not s in ['', ]])"
   ]
  },
  {
   "cell_type": "code",
   "execution_count": 7,
   "id": "c2e81369-fa11-466a-8650-0d738101de4f",
   "metadata": {
    "tags": []
   },
   "outputs": [],
   "source": [
    "def solution_a(data):\n",
    "    symbols = get_symbols(data)\n",
    "    mask = get_mask(data, symbols)\n",
    "\n",
    "    # input data as np array\n",
    "    data_np = np.array([list(s) for s in data.split(\"\\n\")])\n",
    "\n",
    "    # use scipy label to check for un-connected parts\n",
    "    labeled_array, num_features = label(mask, structure=np.ones((3, 3)))\n",
    "\n",
    "    # loop through connected parts\n",
    "    total_not_connected = 0\n",
    "    for f in np.arange(1, num_features+1):\n",
    "        masked_group = mask[np.where(labeled_array == f)]\n",
    "        data_group = data_np[np.where(labeled_array == f)]\n",
    "\n",
    "        # check if symbol is this group\n",
    "        if 2 not in masked_group:\n",
    "            part_nr = int(\"\".join(data_group))\n",
    "            total_not_connected += part_nr\n",
    "    \n",
    "    # get sum of all numeric values in data\n",
    "    total_data = sum_data(data)\n",
    "    \n",
    "    # answer is total minus not connected \n",
    "    return total_data - total_not_connected"
   ]
  },
  {
   "cell_type": "code",
   "execution_count": 8,
   "id": "3815ebe7-a575-411d-a804-5e0ba8611de0",
   "metadata": {
    "tags": []
   },
   "outputs": [
    {
     "data": {
      "text/plain": [
       "4361"
      ]
     },
     "execution_count": 8,
     "metadata": {},
     "output_type": "execute_result"
    }
   ],
   "source": [
    "solution_a(input_data_example)"
   ]
  },
  {
   "cell_type": "code",
   "execution_count": 9,
   "id": "d1c9ad18-b7aa-479f-851b-24110dcd615f",
   "metadata": {
    "tags": []
   },
   "outputs": [
    {
     "name": "stderr",
     "output_type": "stream",
     "text": [
      "coerced int64 value 532428 for 2023/03\n"
     ]
    },
    {
     "name": "stdout",
     "output_type": "stream",
     "text": [
      "532428\n"
     ]
    }
   ],
   "source": [
    "print(solution_a(input_data))\n",
    "puzzle.answer_a = solution_a(input_data)"
   ]
  },
  {
   "cell_type": "markdown",
   "id": "c14b2ec9-b78b-433c-981c-700e489ff13c",
   "metadata": {},
   "source": [
    "### Part 2"
   ]
  },
  {
   "cell_type": "code",
   "execution_count": 10,
   "id": "b909f2b1-d1b8-41ab-850d-62749b05669a",
   "metadata": {
    "tags": []
   },
   "outputs": [],
   "source": [
    "def get_gear_parts(data_np, idx_match):\n",
    "    # parse the numbers out of a connected group from scipy label    \n",
    "    output = []\n",
    "    part_num = []\n",
    "    for i in np.arange(len(idx_match[1])):\n",
    "        x = idx_match[1][i]\n",
    "        y = idx_match[0][i]        \n",
    "        value = data_np[y, x]        \n",
    "        if i > 0:\n",
    "            diff_x = idx_match[1][i] - idx_match[1][i-1]\n",
    "            diff_y = idx_match[0][i] - idx_match[0][i-1]\n",
    "            if diff_x > 1 or diff_y != 0 or value == \"*\":\n",
    "                output.append(part_num)\n",
    "                part_num = []\n",
    "\n",
    "        part_num.append(value)\n",
    "\n",
    "    output.append(part_num)\n",
    "    \n",
    "    return [int(\"\".join([pp.replace(\"*\", \"\") for pp in p])) for p in output if len(p) > 0 and p != [\"*\"]]"
   ]
  },
  {
   "cell_type": "code",
   "execution_count": 11,
   "id": "f0f093df-9cf5-429f-bac9-2cc1d19ecafa",
   "metadata": {},
   "outputs": [],
   "source": [
    "def solution_b(data):\n",
    "    symbols = get_symbols(data)\n",
    "    mask = get_mask(data, symbols)\n",
    "\n",
    "    # input data as np array\n",
    "    data_np = np.array([list(s) for s in data.split(\"\\n\")])\n",
    "\n",
    "    # use scipy label to check for un-connected parts\n",
    "    labeled_array, num_features = label(mask, structure=np.ones((3, 3)))\n",
    "    \n",
    "    # loop through connected parts\n",
    "    total_gear = 0\n",
    "    for f in np.arange(1, num_features+1):\n",
    "        idx_match = np.where(labeled_array == f)\n",
    "        masked_group = mask[idx_match]\n",
    "        data_group = data_np[idx_match]\n",
    "       \n",
    "        if \"*\" not in data_group:\n",
    "            pass\n",
    "        else:\n",
    "            # work around because scipy's label is not working nicely with part two, ie. the numbers from different lines are joined together\n",
    "            parts = get_gear_parts(data_np, idx_match)\n",
    "\n",
    "            if len(parts) == 2:\n",
    "                gear_ratio = np.product(parts)\n",
    "                total_gear += gear_ratio\n",
    "    return total_gear"
   ]
  },
  {
   "cell_type": "code",
   "execution_count": 12,
   "id": "aa1c4473-f2c3-4103-a64b-594d806566f9",
   "metadata": {
    "tags": []
   },
   "outputs": [
    {
     "data": {
      "text/plain": [
       "467835"
      ]
     },
     "execution_count": 12,
     "metadata": {},
     "output_type": "execute_result"
    }
   ],
   "source": [
    "solution_b(input_data_example)"
   ]
  },
  {
   "cell_type": "code",
   "execution_count": 14,
   "id": "11beafdb-bfe5-4f29-8c85-a5405aed57e9",
   "metadata": {
    "tags": []
   },
   "outputs": [
    {
     "name": "stderr",
     "output_type": "stream",
     "text": [
      "coerced int64 value 84051670 for 2023/03\n"
     ]
    },
    {
     "name": "stdout",
     "output_type": "stream",
     "text": [
      "84051670\n"
     ]
    }
   ],
   "source": [
    "print(solution_b(input_data))\n",
    "puzzle.answer_b = solution_b(input_data)"
   ]
  }
 ],
 "metadata": {
  "kernelspec": {
   "display_name": "Python 3 (ipykernel)",
   "language": "python",
   "name": "python3"
  },
  "language_info": {
   "codemirror_mode": {
    "name": "ipython",
    "version": 3
   },
   "file_extension": ".py",
   "mimetype": "text/x-python",
   "name": "python",
   "nbconvert_exporter": "python",
   "pygments_lexer": "ipython3",
   "version": "3.9.12"
  }
 },
 "nbformat": 4,
 "nbformat_minor": 5
}
