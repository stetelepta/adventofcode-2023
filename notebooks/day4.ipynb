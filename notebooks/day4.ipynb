{
 "cells": [
  {
   "cell_type": "markdown",
   "id": "b73a0e62-6374-48e5-b692-ed8390840ea0",
   "metadata": {},
   "source": [
    "## Day 4\n",
    "\n",
    "https://adventofcode.com/2023/day/4"
   ]
  },
  {
   "cell_type": "markdown",
   "id": "c169507d-d961-4748-b796-9614bebeeb9c",
   "metadata": {},
   "source": [
    "### Imports"
   ]
  },
  {
   "cell_type": "code",
   "execution_count": 1,
   "id": "a9d16f5d-0c0d-45d8-949c-397352151c00",
   "metadata": {
    "tags": []
   },
   "outputs": [],
   "source": [
    "import os\n",
    "from pathlib import Path\n",
    "\n",
    "import numpy as np\n",
    "import pandas as pd\n",
    "\n",
    "from aocd.models import Puzzle\n",
    "from dotenv import load_dotenv\n",
    "\n",
    "from scipy.ndimage import label"
   ]
  },
  {
   "cell_type": "markdown",
   "id": "99bd8199-dfbb-4bba-92cd-a47ff4df6c63",
   "metadata": {
    "tags": []
   },
   "source": [
    "### Get data"
   ]
  },
  {
   "cell_type": "code",
   "execution_count": 2,
   "id": "f3eeeaa4-4dec-4cd8-add8-e2fb3f6e4781",
   "metadata": {
    "tags": []
   },
   "outputs": [],
   "source": [
    "load_dotenv()\n",
    "\n",
    "puzzle = Puzzle(year=2023, day=4)\n",
    "input_data_example = puzzle.examples[0].input_data\n",
    "input_data = puzzle.input_data"
   ]
  },
  {
   "cell_type": "markdown",
   "id": "bbbf10e2-519b-45ae-b8c4-86cc39ea8e0c",
   "metadata": {},
   "source": [
    "### Part 1"
   ]
  },
  {
   "cell_type": "code",
   "execution_count": 3,
   "id": "fde594a7-61d5-4f08-976b-6e1f8dbdeaeb",
   "metadata": {
    "tags": []
   },
   "outputs": [],
   "source": [
    "dict_counts = {}"
   ]
  },
  {
   "cell_type": "code",
   "execution_count": 4,
   "id": "91f5cf2a-28ea-4528-9af1-2c723d8f7c4b",
   "metadata": {
    "tags": []
   },
   "outputs": [],
   "source": [
    "def parse_data(data):\n",
    "    output = []\n",
    "    for card in data.split(\"\\n\"):\n",
    "        winning, mine = card.split(\"|\")\n",
    "        card_id, winning = winning.split(\": \")\n",
    "        card_id = int(card_id.replace(\"Card \", \"\"))\n",
    "        \n",
    "        winning = winning.strip().replace(\"  \", \" \")\n",
    "        winning = [int(w) for w in winning.split(\" \")]\n",
    "\n",
    "        mine = [int(m) for m in mine.replace(\"  \", \" \").strip().split(\" \")]\n",
    "        \n",
    "        output.append({'card_id': card_id, 'winning': winning, 'mine': mine})\n",
    "    return output"
   ]
  },
  {
   "cell_type": "code",
   "execution_count": 5,
   "id": "99ad6130-a936-47d3-b2dd-e08b0f43a33a",
   "metadata": {
    "tags": []
   },
   "outputs": [],
   "source": [
    "def get_points(num_matches):\n",
    "    if num_matches == 0:\n",
    "        return 0\n",
    "    return 2**(num_matches-1)"
   ]
  },
  {
   "cell_type": "code",
   "execution_count": 6,
   "id": "5ed5f163-d56c-42a4-af07-b9f07404ba94",
   "metadata": {
    "tags": []
   },
   "outputs": [],
   "source": [
    "def get_matches(data):\n",
    "    cards = parse_data(data)\n",
    "\n",
    "    for card in cards:\n",
    "        card['num_matches'] = 0\n",
    "        for mine_num in card['mine']:\n",
    "            if mine_num in card['winning']:\n",
    "                card['num_matches'] += 1\n",
    "        card['points'] = get_points(card['num_matches'])\n",
    "    return cards"
   ]
  },
  {
   "cell_type": "code",
   "execution_count": 7,
   "id": "c2e81369-fa11-466a-8650-0d738101de4f",
   "metadata": {
    "tags": []
   },
   "outputs": [],
   "source": [
    "def solution_a(data):    \n",
    "    cards = get_matches(data)\n",
    "    total = 0\n",
    "    for card in cards:\n",
    "        total += card['points']\n",
    "    return total"
   ]
  },
  {
   "cell_type": "code",
   "execution_count": 8,
   "id": "3815ebe7-a575-411d-a804-5e0ba8611de0",
   "metadata": {
    "tags": []
   },
   "outputs": [
    {
     "data": {
      "text/plain": [
       "13"
      ]
     },
     "execution_count": 8,
     "metadata": {},
     "output_type": "execute_result"
    }
   ],
   "source": [
    "solution_a(input_data_example)"
   ]
  },
  {
   "cell_type": "code",
   "execution_count": 9,
   "id": "687939da-0a7a-4963-9544-40552bf751b0",
   "metadata": {
    "tags": []
   },
   "outputs": [
    {
     "name": "stdout",
     "output_type": "stream",
     "text": [
      "18653\n"
     ]
    }
   ],
   "source": [
    "print(solution_a(input_data))\n",
    "puzzle.answer_a = solution_a(input_data)"
   ]
  },
  {
   "cell_type": "markdown",
   "id": "c14b2ec9-b78b-433c-981c-700e489ff13c",
   "metadata": {},
   "source": [
    "### Part 2"
   ]
  },
  {
   "cell_type": "code",
   "execution_count": 10,
   "id": "bc8014dc-7cd1-4d53-b9d0-ef017b5920de",
   "metadata": {
    "tags": []
   },
   "outputs": [],
   "source": [
    "def get_card(card_id):\n",
    "    for card in cards:\n",
    "        if card['card_id'] == card_id:\n",
    "            return card"
   ]
  },
  {
   "cell_type": "code",
   "execution_count": 11,
   "id": "4425cf20-31c2-465f-9efa-9814226695d9",
   "metadata": {
    "tags": []
   },
   "outputs": [],
   "source": [
    "def count_cards(dict_counts, card_id):\n",
    "    # update count\n",
    "    dict_counts[card_id] += 1     \n",
    "    # get card\n",
    "    card = get_card(card_id)\n",
    "    \n",
    "    # for each won card, count cards\n",
    "    for card_id in card['cards_won']:\n",
    "        count_cards(dict_counts, card_id)"
   ]
  },
  {
   "cell_type": "code",
   "execution_count": 12,
   "id": "f0f093df-9cf5-429f-bac9-2cc1d19ecafa",
   "metadata": {},
   "outputs": [],
   "source": [
    "def solution_b():  \n",
    "    for card in cards:\n",
    "        card['cards_won'] = [i+card['card_id'] for i in np.arange(1, card['num_matches']+1)]\n",
    "    \n",
    "    # init dictionary with counts\n",
    "    dict_counts = {}\n",
    "    for card in cards:\n",
    "        dict_counts[card['card_id']] = 0\n",
    "    \n",
    "    for card in cards:\n",
    "        count_cards(dict_counts, card['card_id'])\n",
    "    return np.sum(list(dict_counts.values()))"
   ]
  },
  {
   "cell_type": "code",
   "execution_count": 13,
   "id": "4b73fbbb-4c14-4d7a-9155-c0f91e9d713b",
   "metadata": {
    "tags": []
   },
   "outputs": [
    {
     "data": {
      "text/plain": [
       "30"
      ]
     },
     "execution_count": 13,
     "metadata": {},
     "output_type": "execute_result"
    }
   ],
   "source": [
    "dict_counts = {}\n",
    "cards = get_matches(input_data_example)\n",
    "solution = solution_b()\n",
    "solution"
   ]
  },
  {
   "cell_type": "code",
   "execution_count": 14,
   "id": "cfa411b5-b6b1-4c97-91e0-4628826e1bbf",
   "metadata": {
    "tags": []
   },
   "outputs": [],
   "source": [
    "dict_counts = {}\n",
    "cards = get_matches(input_data)"
   ]
  },
  {
   "cell_type": "code",
   "execution_count": 15,
   "id": "bfca3229-a3c7-48a7-8eaf-9ece2382b6a3",
   "metadata": {
    "tags": []
   },
   "outputs": [
    {
     "name": "stdout",
     "output_type": "stream",
     "text": [
      "CPU times: user 23.2 s, sys: 99.6 ms, total: 23.3 s\n",
      "Wall time: 23.3 s\n"
     ]
    },
    {
     "data": {
      "text/plain": [
       "5921508"
      ]
     },
     "execution_count": 15,
     "metadata": {},
     "output_type": "execute_result"
    }
   ],
   "source": [
    "%%time\n",
    "\n",
    "solution = solution_b()\n",
    "solution"
   ]
  },
  {
   "cell_type": "code",
   "execution_count": 16,
   "id": "11beafdb-bfe5-4f29-8c85-a5405aed57e9",
   "metadata": {
    "tags": []
   },
   "outputs": [
    {
     "name": "stderr",
     "output_type": "stream",
     "text": [
      "coerced int64 value 5921508 for 2023/04\n"
     ]
    }
   ],
   "source": [
    "puzzle.answer_b = solution"
   ]
  }
 ],
 "metadata": {
  "kernelspec": {
   "display_name": "Python 3 (ipykernel)",
   "language": "python",
   "name": "python3"
  },
  "language_info": {
   "codemirror_mode": {
    "name": "ipython",
    "version": 3
   },
   "file_extension": ".py",
   "mimetype": "text/x-python",
   "name": "python",
   "nbconvert_exporter": "python",
   "pygments_lexer": "ipython3",
   "version": "3.9.12"
  }
 },
 "nbformat": 4,
 "nbformat_minor": 5
}
