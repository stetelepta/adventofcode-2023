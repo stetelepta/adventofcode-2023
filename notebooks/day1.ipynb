{
 "cells": [
  {
   "cell_type": "markdown",
   "id": "b73a0e62-6374-48e5-b692-ed8390840ea0",
   "metadata": {},
   "source": [
    "## Day 1\n",
    "\n",
    "https://adventofcode.com/2023/day/1"
   ]
  },
  {
   "cell_type": "markdown",
   "id": "c169507d-d961-4748-b796-9614bebeeb9c",
   "metadata": {},
   "source": [
    "### Imports"
   ]
  },
  {
   "cell_type": "code",
   "execution_count": 1,
   "id": "a9d16f5d-0c0d-45d8-949c-397352151c00",
   "metadata": {
    "tags": []
   },
   "outputs": [],
   "source": [
    "import os\n",
    "from pathlib import Path\n",
    "\n",
    "import numpy as np\n",
    "import pandas as pd\n",
    "\n",
    "from aocd.models import Puzzle\n",
    "from dotenv import load_dotenv"
   ]
  },
  {
   "cell_type": "markdown",
   "id": "99bd8199-dfbb-4bba-92cd-a47ff4df6c63",
   "metadata": {
    "tags": []
   },
   "source": [
    "### Get data"
   ]
  },
  {
   "cell_type": "code",
   "execution_count": 2,
   "id": "f3eeeaa4-4dec-4cd8-add8-e2fb3f6e4781",
   "metadata": {
    "tags": []
   },
   "outputs": [],
   "source": [
    "load_dotenv()\n",
    "\n",
    "puzzle = Puzzle(year=2023, day=1)\n",
    "input_data_example = puzzle.examples[0].input_data\n",
    "input_data = puzzle.input_data"
   ]
  },
  {
   "cell_type": "markdown",
   "id": "bbbf10e2-519b-45ae-b8c4-86cc39ea8e0c",
   "metadata": {},
   "source": [
    "### Part 1"
   ]
  },
  {
   "cell_type": "code",
   "execution_count": 3,
   "id": "4e6e1ef3-2cbf-4c3d-ba4c-51fd3f2ff648",
   "metadata": {
    "tags": []
   },
   "outputs": [],
   "source": [
    "def solution_a(data):\n",
    "    total = 0\n",
    "    for line in data.split(\"\\n\"):\n",
    "        digits = [s for s in line if s.isdigit()]\n",
    "        nr = int(f\"{digits[0]}{digits[-1]}\")\n",
    "        total += nr\n",
    "    return total"
   ]
  },
  {
   "cell_type": "code",
   "execution_count": 4,
   "id": "978bcb4a-9a1b-4acb-9181-70c2bcaf2075",
   "metadata": {},
   "outputs": [
    {
     "data": {
      "text/plain": [
       "142"
      ]
     },
     "execution_count": 4,
     "metadata": {},
     "output_type": "execute_result"
    }
   ],
   "source": [
    "solution_a(input_data_example)"
   ]
  },
  {
   "cell_type": "code",
   "execution_count": 5,
   "id": "310ca34a-9a6f-4bdd-8b2c-08f7c7f07161",
   "metadata": {
    "tags": []
   },
   "outputs": [
    {
     "name": "stdout",
     "output_type": "stream",
     "text": [
      "55002\n"
     ]
    }
   ],
   "source": [
    "print(solution_a(input_data))\n",
    "\n",
    "# submit answer\n",
    "puzzle.answer_a = solution_a(input_data)"
   ]
  },
  {
   "cell_type": "markdown",
   "id": "c14b2ec9-b78b-433c-981c-700e489ff13c",
   "metadata": {},
   "source": [
    "### Part 2"
   ]
  },
  {
   "cell_type": "code",
   "execution_count": 6,
   "id": "8bfa50a7-eaed-4ac4-a614-304eea118771",
   "metadata": {
    "tags": []
   },
   "outputs": [],
   "source": [
    "digit_strings = ['one', 'two', 'three', 'four', 'five', 'six', 'seven', 'eight', 'nine']\n",
    "dict_digits = dict(zip(digit_strings, (np.arange(9)+1).astype(str)))"
   ]
  },
  {
   "cell_type": "code",
   "execution_count": 7,
   "id": "e29e3004-3c8d-402c-864f-b8b65cf368a5",
   "metadata": {
    "tags": []
   },
   "outputs": [],
   "source": [
    "# Not sure how to get the example for part 2 from the puzzle object, for now get it manually\n",
    "input_data_example = \"two1nine\\neightwothree\\nabcone2threexyz\\nxtwone3four\\n4nineeightseven2\\nzoneight234\\n7pqrstsixteen\""
   ]
  },
  {
   "cell_type": "code",
   "execution_count": 8,
   "id": "033057ce-ac4b-4ee2-806c-5d63d8cf0c25",
   "metadata": {
    "tags": []
   },
   "outputs": [],
   "source": [
    "def solution_b(data):\n",
    "    replaced_data = []\n",
    "    for line in data.split(\"\\n\"):\n",
    "        for digit_string in digit_strings:\n",
    "            line = line.replace(digit_string, f\"{digit_string}{dict_digits.get(digit_string)}{digit_string}\")\n",
    "        replaced_data.append(line)\n",
    "    return solution_a(\"\\n\".join(replaced_data))"
   ]
  },
  {
   "cell_type": "code",
   "execution_count": 9,
   "id": "5e040e6d-53e3-476b-9c82-6cf5412ed564",
   "metadata": {
    "tags": []
   },
   "outputs": [
    {
     "data": {
      "text/plain": [
       "281"
      ]
     },
     "execution_count": 9,
     "metadata": {},
     "output_type": "execute_result"
    }
   ],
   "source": [
    "solution_b(input_data_example)"
   ]
  },
  {
   "cell_type": "code",
   "execution_count": 10,
   "id": "06e9bcee-20e1-416f-8dc8-fe8246da4b49",
   "metadata": {
    "tags": []
   },
   "outputs": [
    {
     "name": "stdout",
     "output_type": "stream",
     "text": [
      "55093\n"
     ]
    }
   ],
   "source": [
    "print(solution_b(input_data))\n",
    "\n",
    "puzzle.answer_b = solution_b(input_data)"
   ]
  }
 ],
 "metadata": {
  "kernelspec": {
   "display_name": "Python 3 (ipykernel)",
   "language": "python",
   "name": "python3"
  },
  "language_info": {
   "codemirror_mode": {
    "name": "ipython",
    "version": 3
   },
   "file_extension": ".py",
   "mimetype": "text/x-python",
   "name": "python",
   "nbconvert_exporter": "python",
   "pygments_lexer": "ipython3",
   "version": "3.9.12"
  }
 },
 "nbformat": 4,
 "nbformat_minor": 5
}
