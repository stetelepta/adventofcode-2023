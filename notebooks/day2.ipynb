{
 "cells": [
  {
   "cell_type": "markdown",
   "id": "b73a0e62-6374-48e5-b692-ed8390840ea0",
   "metadata": {},
   "source": [
    "## Day 2\n",
    "\n",
    "https://adventofcode.com/2023/day/2"
   ]
  },
  {
   "cell_type": "markdown",
   "id": "c169507d-d961-4748-b796-9614bebeeb9c",
   "metadata": {},
   "source": [
    "### Imports"
   ]
  },
  {
   "cell_type": "code",
   "execution_count": 1,
   "id": "a9d16f5d-0c0d-45d8-949c-397352151c00",
   "metadata": {
    "tags": []
   },
   "outputs": [],
   "source": [
    "import os\n",
    "from pathlib import Path\n",
    "\n",
    "import numpy as np\n",
    "import pandas as pd\n",
    "\n",
    "from aocd.models import Puzzle\n",
    "from dotenv import load_dotenv"
   ]
  },
  {
   "cell_type": "markdown",
   "id": "99bd8199-dfbb-4bba-92cd-a47ff4df6c63",
   "metadata": {
    "tags": []
   },
   "source": [
    "### Get data"
   ]
  },
  {
   "cell_type": "code",
   "execution_count": 2,
   "id": "f3eeeaa4-4dec-4cd8-add8-e2fb3f6e4781",
   "metadata": {
    "tags": []
   },
   "outputs": [],
   "source": [
    "load_dotenv()\n",
    "\n",
    "puzzle = Puzzle(year=2023, day=2)\n",
    "input_data_example = puzzle.examples[0].input_data\n",
    "input_data = puzzle.input_data"
   ]
  },
  {
   "cell_type": "markdown",
   "id": "bbbf10e2-519b-45ae-b8c4-86cc39ea8e0c",
   "metadata": {},
   "source": [
    "### Part 1"
   ]
  },
  {
   "cell_type": "code",
   "execution_count": 3,
   "id": "993a3031-337b-4ae8-b692-949ded16d8ff",
   "metadata": {
    "tags": []
   },
   "outputs": [],
   "source": [
    "def parse_game(game):\n",
    "    output = []\n",
    "    game_id, game_rounds = game.split(\": \")\n",
    "    game_id = int(game_id[5:])\n",
    "    for game_round in game_rounds.split(\"; \"):\n",
    "        dict_cubes = {}\n",
    "    \n",
    "        for cube in game_round.split(\", \"):\n",
    "            nr, color = cube.split(\" \")\n",
    "            dict_cubes[color] = int(nr)\n",
    "        output.append(dict_cubes)\n",
    "    return game_id, output"
   ]
  },
  {
   "cell_type": "code",
   "execution_count": 4,
   "id": "34960118-7dbc-455f-bf2e-b79fd5246334",
   "metadata": {
    "tags": []
   },
   "outputs": [],
   "source": [
    "def is_valid_round(cube_dict, cube_dict_max={'red': 12, 'green': 13, 'blue': 14}):\n",
    "    for k, v in cube_dict.items():\n",
    "        if v > cube_dict_max[k]:\n",
    "            return False\n",
    "    return True"
   ]
  },
  {
   "cell_type": "code",
   "execution_count": 5,
   "id": "4e6e1ef3-2cbf-4c3d-ba4c-51fd3f2ff648",
   "metadata": {
    "tags": []
   },
   "outputs": [],
   "source": [
    "def solution_a(data):\n",
    "    games = data.split(\"\\n\")\n",
    "\n",
    "    total = 0\n",
    "    for game in games:\n",
    "        game_id, rounds = parse_game(game)\n",
    "        \n",
    "        if all([is_valid_round(r) for r in rounds]):\n",
    "            total += game_id\n",
    "        \n",
    "        #print(f\"{game}\")\n",
    "    return total"
   ]
  },
  {
   "cell_type": "code",
   "execution_count": 6,
   "id": "978bcb4a-9a1b-4acb-9181-70c2bcaf2075",
   "metadata": {},
   "outputs": [
    {
     "data": {
      "text/plain": [
       "8"
      ]
     },
     "execution_count": 6,
     "metadata": {},
     "output_type": "execute_result"
    }
   ],
   "source": [
    "solution_a(input_data_example)"
   ]
  },
  {
   "cell_type": "code",
   "execution_count": 8,
   "id": "310ca34a-9a6f-4bdd-8b2c-08f7c7f07161",
   "metadata": {
    "tags": []
   },
   "outputs": [
    {
     "name": "stdout",
     "output_type": "stream",
     "text": [
      "2176\n"
     ]
    }
   ],
   "source": [
    "print(solution_a(input_data))\n",
    "\n",
    "# submit answer\n",
    "puzzle.answer_a = solution_a(input_data)"
   ]
  },
  {
   "cell_type": "markdown",
   "id": "c14b2ec9-b78b-433c-981c-700e489ff13c",
   "metadata": {},
   "source": [
    "### Part 2"
   ]
  },
  {
   "cell_type": "code",
   "execution_count": 9,
   "id": "3828fa7b-5996-4321-991c-3d37297ba83e",
   "metadata": {
    "tags": []
   },
   "outputs": [],
   "source": [
    "def get_max_dict(rounds):\n",
    "    dict_max = {}\n",
    "    for r in rounds:\n",
    "        for color, num in r.items():\n",
    "            if int(num) > int(dict_max.get(color, 0)):\n",
    "                dict_max[color] = num\n",
    "    return dict_max"
   ]
  },
  {
   "cell_type": "code",
   "execution_count": 10,
   "id": "e3921d67-230c-42d0-8aa5-da1bd55acdae",
   "metadata": {
    "tags": []
   },
   "outputs": [],
   "source": [
    "def get_cube_power(rounds):\n",
    "    return np.prod(list(get_max_dict(rounds).values()))"
   ]
  },
  {
   "cell_type": "code",
   "execution_count": 11,
   "id": "c57c013d-f7bb-4cd0-b4bb-de9884496579",
   "metadata": {
    "tags": []
   },
   "outputs": [],
   "source": [
    "def solution_b(data):\n",
    "    games = data.split(\"\\n\")\n",
    "    total = 0\n",
    "    for game in games:\n",
    "        game_id, rounds = parse_game(game)\n",
    "        total += get_cube_power(rounds)\n",
    "\n",
    "    return total"
   ]
  },
  {
   "cell_type": "code",
   "execution_count": 12,
   "id": "704833dc-302d-42aa-93d8-0d0b70e17838",
   "metadata": {
    "tags": []
   },
   "outputs": [
    {
     "data": {
      "text/plain": [
       "2286"
      ]
     },
     "execution_count": 12,
     "metadata": {},
     "output_type": "execute_result"
    }
   ],
   "source": [
    "solution_b(input_data_example)"
   ]
  },
  {
   "cell_type": "code",
   "execution_count": 15,
   "id": "3fa45494-4f2f-4d6e-8975-ac7271231108",
   "metadata": {
    "tags": []
   },
   "outputs": [
    {
     "name": "stderr",
     "output_type": "stream",
     "text": [
      "coerced int64 value 63700 for 2023/02\n"
     ]
    },
    {
     "name": "stdout",
     "output_type": "stream",
     "text": [
      "63700\n"
     ]
    }
   ],
   "source": [
    "print(solution_b(input_data))\n",
    "\n",
    "# submit answer\n",
    "puzzle.answer_b = solution_b(input_data)"
   ]
  }
 ],
 "metadata": {
  "kernelspec": {
   "display_name": "Python 3 (ipykernel)",
   "language": "python",
   "name": "python3"
  },
  "language_info": {
   "codemirror_mode": {
    "name": "ipython",
    "version": 3
   },
   "file_extension": ".py",
   "mimetype": "text/x-python",
   "name": "python",
   "nbconvert_exporter": "python",
   "pygments_lexer": "ipython3",
   "version": "3.9.12"
  }
 },
 "nbformat": 4,
 "nbformat_minor": 5
}
